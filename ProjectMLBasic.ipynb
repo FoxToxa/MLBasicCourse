{
  "nbformat": 4,
  "nbformat_minor": 0,
  "metadata": {
    "colab": {
      "name": "ProjectMLBasic.ipynb",
      "provenance": [],
      "collapsed_sections": [],
      "toc_visible": true
    },
    "kernelspec": {
      "name": "python3",
      "display_name": "Python 3"
    },
    "language_info": {
      "name": "python"
    }
  },
  "cells": [
    {
      "cell_type": "markdown",
      "metadata": {
        "id": "dtmRWqh60hPN"
      },
      "source": [
        "# Welcome to ML Basic course\n"
      ]
    },
    {
      "cell_type": "markdown",
      "metadata": {
        "id": "atncehwizR7D"
      },
      "source": [
        "## Task 1"
      ]
    },
    {
      "cell_type": "markdown",
      "metadata": {
        "id": "DQrCc9qIyZsN"
      },
      "source": [
        "Присвойте переменной *answer* значение = 3"
      ]
    },
    {
      "cell_type": "code",
      "metadata": {
        "id": "LZ84zTF3yUOf"
      },
      "source": [
        "answer = \n",
        "sample_data.test.check_task(answer)"
      ],
      "execution_count": null,
      "outputs": []
    },
    {
      "cell_type": "markdown",
      "metadata": {
        "id": "jpvPDwhP0Xgq"
      },
      "source": [
        "## Task 2"
      ]
    }
  ]
}