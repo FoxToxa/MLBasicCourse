{
  "nbformat": 4,
  "nbformat_minor": 0,
  "metadata": {
    "colab": {
      "name": "ProjectMLBasic.ipynb",
      "provenance": [],
      "collapsed_sections": [
        "u5f9pxCw25ha",
        "atncehwizR7D"
      ]
    },
    "kernelspec": {
      "name": "python3",
      "display_name": "Python 3"
    },
    "language_info": {
      "name": "python"
    }
  },
  "cells": [
    {
      "cell_type": "markdown",
      "metadata": {
        "id": "dtmRWqh60hPN"
      },
      "source": [
        "# Welcome to ML Basic course\n"
      ]
    },
    {
      "cell_type": "markdown",
      "metadata": {
        "id": "i3fZkAD59DWr"
      },
      "source": [
        "Чтобы загрузить файлы для проверки ответов, пожалуйста, запустите код ниже:"
      ]
    },
    {
      "cell_type": "code",
      "metadata": {
        "id": "u9Ftrk2X9LuS"
      },
      "source": [
        "!rm -r MLBasicAnswers\n",
        "!git clone https://github.com/FoxToxa/MLBasicAnswers.git\n",
        "import MLBasicAnswers"
      ],
      "execution_count": null,
      "outputs": []
    },
    {
      "cell_type": "markdown",
      "metadata": {
        "id": "u5f9pxCw25ha"
      },
      "source": [
        "## Раздел 1 (Как здесь работать?)"
      ]
    },
    {
      "cell_type": "markdown",
      "metadata": {
        "id": "atncehwizR7D"
      },
      "source": [
        "### Task 1"
      ]
    },
    {
      "cell_type": "markdown",
      "metadata": {
        "id": "DQrCc9qIyZsN"
      },
      "source": [
        "**Задание:**\n",
        "Присвойте переменной *answer* значение = 3"
      ]
    },
    {
      "cell_type": "code",
      "metadata": {
        "id": "LZ84zTF3yUOf"
      },
      "source": [
        "answer ="
      ],
      "execution_count": 2,
      "outputs": []
    },
    {
      "cell_type": "markdown",
      "metadata": {
        "id": "tEKDVQGQ2TXC"
      },
      "source": [
        "Теперь запустите код проверки ответа:"
      ]
    },
    {
      "cell_type": "code",
      "metadata": {
        "id": "Uzw9GRL72Ykt"
      },
      "source": [
        "MLBasicAnswers.check_task_1_1(answer)"
      ],
      "execution_count": null,
      "outputs": []
    },
    {
      "cell_type": "markdown",
      "metadata": {
        "id": "jpvPDwhP0Xgq"
      },
      "source": [
        "### Task 2"
      ]
    }
  ]
}